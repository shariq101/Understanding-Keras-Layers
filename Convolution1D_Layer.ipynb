{
  "nbformat": 4,
  "nbformat_minor": 0,
  "metadata": {
    "colab": {
      "provenance": [],
      "authorship_tag": "ABX9TyPRMMVhnTgffTzePCbHys5q",
      "include_colab_link": true
    },
    "kernelspec": {
      "name": "python3",
      "display_name": "Python 3"
    },
    "language_info": {
      "name": "python"
    }
  },
  "cells": [
    {
      "cell_type": "markdown",
      "metadata": {
        "id": "view-in-github",
        "colab_type": "text"
      },
      "source": [
        "<a href=\"https://colab.research.google.com/github/shariq101/Understanding-Keras-Layers/blob/main/Convolution1D_Layer.ipynb\" target=\"_parent\"><img src=\"https://colab.research.google.com/assets/colab-badge.svg\" alt=\"Open In Colab\"/></a>"
      ]
    },
    {
      "cell_type": "code",
      "execution_count": 1,
      "metadata": {
        "colab": {
          "base_uri": "https://localhost:8080/"
        },
        "id": "cYg2vzL6pLQR",
        "outputId": "6e30a32b-a111-494a-994f-a40b4d41eab1"
      },
      "outputs": [
        {
          "output_type": "stream",
          "name": "stdout",
          "text": [
            "Tensorflow  2.11.0\n",
            "Tensorflow.Keras  2.11.0\n"
          ]
        }
      ],
      "source": [
        "#@title Understanding tf.keras Layers\n",
        "import tensorflow as tf\n",
        "import numpy as np\n",
        "print('Tensorflow ',tf.__version__)\n",
        "print('Tensorflow.Keras ',tf.keras.__version__)"
      ]
    },
    {
      "cell_type": "markdown",
      "source": [
        "According to Keras documentation:\n",
        "\n",
        "This layer creates a convolution kernel that is convolved with the layer input over a single spatial (or temporal) dimension to produce a tensor of outputs.\n",
        "\n",
        "If use_bias is True, a bias vector is created and added to the outputs. Finally, if activation is not None, it is applied to the outputs as well.\n",
        "\n",
        "When using this layer as the first layer in a model, provide an input_shape argument (tuple of integers or None, e.g. (10, 128) for sequences of 10 vectors of 128-dimensional vectors, or (None, 128) for variable-length sequences of 128-dimensional vectors."
      ],
      "metadata": {
        "id": "dkSxmVmIGAuq"
      }
    },
    {
      "cell_type": "code",
      "source": [
        "import tensorflow as tf\n",
        "import numpy as np\n",
        "\n",
        "# The inputs are 128-length vectors with 10 timesteps, and the batch size  \n",
        "# is 4.  \n",
        "input_shape = (4, 10, 128)\n",
        "x = tf.random.normal(input_shape)\n",
        "print('x.shape: ', x.shape)\n",
        "print('input shape parameter value to Conv1D: ', input_shape[1:])\n",
        "y = tf.keras.layers.Conv1D(32, 3, activation='relu',input_shape=input_shape[1:])(x)\n",
        "print('y.shape: ',y.shape)"
      ],
      "metadata": {
        "colab": {
          "base_uri": "https://localhost:8080/"
        },
        "id": "c4K1rY_QyYBm",
        "outputId": "0c32224b-82ec-49de-b811-c12b9c127ec1"
      },
      "execution_count": 2,
      "outputs": [
        {
          "output_type": "stream",
          "name": "stdout",
          "text": [
            "x.shape:  (4, 10, 128)\n",
            "input shape parameter value to Conv1D:  (10, 128)\n",
            "y.shape:  (4, 8, 32)\n"
          ]
        }
      ]
    },
    {
      "cell_type": "code",
      "source": [
        "print('y:\\n',y)"
      ],
      "metadata": {
        "colab": {
          "base_uri": "https://localhost:8080/"
        },
        "id": "TWKt-8wvydcL",
        "outputId": "98629bee-101b-468f-b88e-3cbbaa8d9bf5"
      },
      "execution_count": 3,
      "outputs": [
        {
          "output_type": "stream",
          "name": "stdout",
          "text": [
            "y:\n",
            " tf.Tensor(\n",
            "[[[1.4143059  2.9352179  0.         ... 0.         0.3062138  2.9548986 ]\n",
            "  [0.02409244 0.         1.461117   ... 0.16552728 0.9900678  0.        ]\n",
            "  [1.2701575  0.14964044 0.9087007  ... 0.5257775  0.26845858 0.        ]\n",
            "  ...\n",
            "  [2.445037   0.         0.7077065  ... 0.         0.49014455 0.32760826]\n",
            "  [0.         0.         0.16434747 ... 0.45763326 0.         0.9310955 ]\n",
            "  [0.         0.         0.         ... 0.         0.         1.9681315 ]]\n",
            "\n",
            " [[0.57109183 1.5129019  1.4104242  ... 0.         0.6144254  0.        ]\n",
            "  [0.         2.0601132  0.3226842  ... 0.         1.70277    0.        ]\n",
            "  [1.6416994  0.         2.9030936  ... 0.         0.         0.        ]\n",
            "  ...\n",
            "  [0.         1.4941611  0.         ... 1.6155776  0.45449    0.        ]\n",
            "  [0.04212806 0.6330142  0.         ... 1.4666636  0.         0.81801736]\n",
            "  [0.         0.         0.46263143 ... 2.3388166  0.7906592  0.        ]]\n",
            "\n",
            " [[0.         0.         0.         ... 0.         0.         0.        ]\n",
            "  [0.         0.15623522 0.         ... 0.         0.25256675 0.        ]\n",
            "  [0.         0.         2.3408446  ... 0.         1.1943221  0.        ]\n",
            "  ...\n",
            "  [1.3727909  0.         0.         ... 0.47212678 1.4474066  1.0848176 ]\n",
            "  [2.6674037  0.         1.8289211  ... 0.9924916  0.7106506  0.        ]\n",
            "  [3.2632017  0.         0.         ... 2.7716665  0.         2.4825773 ]]\n",
            "\n",
            " [[0.         1.2478924  0.         ... 0.8966309  0.         0.        ]\n",
            "  [1.2685325  0.         0.05323528 ... 0.8874052  1.9200573  0.        ]\n",
            "  [0.         0.         0.         ... 0.         0.         2.3750706 ]\n",
            "  ...\n",
            "  [1.7158129  0.5645377  0.         ... 0.61072654 1.4334317  0.        ]\n",
            "  [1.3389188  1.9215937  1.895709   ... 0.8328456  2.5054235  0.        ]\n",
            "  [0.         0.59049714 0.10887259 ... 0.4706679  0.         0.20513341]]], shape=(4, 8, 32), dtype=float32)\n"
          ]
        }
      ]
    },
    {
      "cell_type": "code",
      "source": [
        "course= 4\n",
        "section= 3\n",
        "student = 5 \n",
        "input_shape = (course,section, student)\n",
        "\n",
        "grades = np.random.uniform(size=input_shape,high=100)\n",
        "\n",
        "print('grades.shape: ', grades.shape)\n",
        "print('grades:\\n', grades)\n"
      ],
      "metadata": {
        "colab": {
          "base_uri": "https://localhost:8080/"
        },
        "id": "P9hCNlOGylF3",
        "outputId": "dffb9dd0-0141-486a-ceeb-ff9b44da151c"
      },
      "execution_count": 4,
      "outputs": [
        {
          "output_type": "stream",
          "name": "stdout",
          "text": [
            "grades.shape:  (4, 3, 5)\n",
            "grades:\n",
            " [[[54.10102531 87.76283499 69.71397659 18.43269867  4.79861394]\n",
            "  [ 8.10294397 16.89416607 59.34308531 99.22916015 45.62429002]\n",
            "  [16.57888473 82.9462677  39.70461441 78.96019105 15.60278642]]\n",
            "\n",
            " [[77.48544295 49.58622656 89.22647635 57.96622315 60.00191548]\n",
            "  [25.54564262  8.00743371  3.70105802 21.17277892 67.04117751]\n",
            "  [15.56623695 28.63276776 97.21736346 65.03523739 87.82110157]]\n",
            "\n",
            " [[99.18627932 63.76467406 41.96971597 66.38254417 49.3426827 ]\n",
            "  [ 3.27419318 61.4584089  74.486658   49.74914215 51.62705618]\n",
            "  [61.5534843  56.45908568 25.62854586 63.70587771 31.25330856]]\n",
            "\n",
            " [[65.63919887 49.21447421 79.61995768 51.94434409  6.27953296]\n",
            "  [72.10632661 64.20660479 70.08730904  5.2420871  60.06937265]\n",
            "  [30.99103815 87.57497556 19.61343695 31.37728371  8.44204598]]]\n"
          ]
        }
      ]
    },
    {
      "cell_type": "code",
      "source": [
        "print(grades[0].sum(), grades[1].sum(), grades[2].sum(), grades[3].sum())"
      ],
      "metadata": {
        "colab": {
          "base_uri": "https://localhost:8080/"
        },
        "id": "w2D55X_8yoxK",
        "outputId": "8901a36e-858a-471a-f40e-109387f3e813"
      },
      "execution_count": 5,
      "outputs": [
        {
          "output_type": "stream",
          "name": "stdout",
          "text": [
            "697.7955393116115 754.0070823945143 799.8416567337022 702.4079883454435\n"
          ]
        }
      ]
    },
    {
      "cell_type": "markdown",
      "source": [
        "However, think about 1D convolution which applies a filter whose all weights are one and bias is 0 to the input\n",
        "\n",
        "Remeber how NN computes output without any activation function: Wx+b\n",
        "\n",
        "Then the result will be sum of the values in x provided that kernel_size covers all the sections (rows) in x.\n",
        "\n",
        "In other words, if input shape is [a,b,c] kernel_size must be equal to b.\n",
        "\n",
        "Because kernel size determines how many rows should be handled by the filter at once!\n",
        "\n",
        "Remember 1D: we take care into all the columns!"
      ],
      "metadata": {
        "id": "GP0MauOyTfHn"
      }
    },
    {
      "cell_type": "code",
      "source": [
        "print('input shape parameter value to Conv1D: ', input_shape[1:])\n",
        "inputs = tf.keras.Input(shape=input_shape[1:])\n",
        "\n",
        "kernelSize= section\n",
        "print('kernelSize: ', kernelSize)\n",
        "\n",
        "outputs = tf.keras.layers.Conv1D(1, kernelSize)(inputs)\n",
        "print('output shape of the Conv1D : ',outputs.shape)\n",
        "\n",
        "model=tf.keras.Model(inputs, outputs)\n",
        "model.compile(\n",
        "    loss=\"binary_crossentropy\",\n",
        "    metrics=[\"accuracy\"],\n",
        ")\n",
        "print(model.summary())"
      ],
      "metadata": {
        "colab": {
          "base_uri": "https://localhost:8080/"
        },
        "id": "Xs9qgD7lysY0",
        "outputId": "77b58302-14fb-4bfe-e5b3-45bb1d2019bb"
      },
      "execution_count": 8,
      "outputs": [
        {
          "output_type": "stream",
          "name": "stdout",
          "text": [
            "input shape parameter value to Conv1D:  (3, 5)\n",
            "kernelSize:  3\n",
            "output shape of the Conv1D :  (None, 1, 1)\n",
            "Model: \"model_1\"\n",
            "_________________________________________________________________\n",
            " Layer (type)                Output Shape              Param #   \n",
            "=================================================================\n",
            " input_2 (InputLayer)        [(None, 3, 5)]            0         \n",
            "                                                                 \n",
            " conv1d_2 (Conv1D)           (None, 1, 1)              16        \n",
            "                                                                 \n",
            "=================================================================\n",
            "Total params: 16\n",
            "Trainable params: 16\n",
            "Non-trainable params: 0\n",
            "_________________________________________________________________\n",
            "None\n"
          ]
        }
      ]
    },
    {
      "cell_type": "code",
      "source": [
        "# prepare a filter such that\n",
        "# W is all ones\n",
        "# b is zero\n",
        "myWeights=(np.ones((kernelSize,student,1)), np.zeros(1,))\n",
        "model.get_layer(index=1).set_weights(myWeights)"
      ],
      "metadata": {
        "id": "4lKM-k24ywrE"
      },
      "execution_count": 9,
      "outputs": []
    },
    {
      "cell_type": "code",
      "source": [
        "model.predict(grades.reshape(-1,section,student))"
      ],
      "metadata": {
        "colab": {
          "base_uri": "https://localhost:8080/"
        },
        "id": "kL60Drsky0uU",
        "outputId": "31ac8f79-1364-4b71-e369-559f1763cfc3"
      },
      "execution_count": 10,
      "outputs": [
        {
          "output_type": "stream",
          "name": "stdout",
          "text": [
            "1/1 [==============================] - 0s 320ms/step\n"
          ]
        },
        {
          "output_type": "execute_result",
          "data": {
            "text/plain": [
              "array([[[697.79553]],\n",
              "\n",
              "       [[754.00714]],\n",
              "\n",
              "       [[799.8416 ]],\n",
              "\n",
              "       [[702.40796]]], dtype=float32)"
            ]
          },
          "metadata": {},
          "execution_count": 10
        }
      ]
    }
  ]
}