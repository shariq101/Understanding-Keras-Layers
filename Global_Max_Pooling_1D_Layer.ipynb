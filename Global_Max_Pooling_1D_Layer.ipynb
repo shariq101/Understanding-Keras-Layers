{
  "nbformat": 4,
  "nbformat_minor": 0,
  "metadata": {
    "colab": {
      "provenance": [],
      "authorship_tag": "ABX9TyNVz4roe+Fz4wrSZj7lmzhb",
      "include_colab_link": true
    },
    "kernelspec": {
      "name": "python3",
      "display_name": "Python 3"
    },
    "language_info": {
      "name": "python"
    },
    "gpuClass": "standard"
  },
  "cells": [
    {
      "cell_type": "markdown",
      "metadata": {
        "id": "view-in-github",
        "colab_type": "text"
      },
      "source": [
        "<a href=\"https://colab.research.google.com/github/shariq101/Understanding-Keras-Layers/blob/main/Global_Max_Pooling_1D_Layer.ipynb\" target=\"_parent\"><img src=\"https://colab.research.google.com/assets/colab-badge.svg\" alt=\"Open In Colab\"/></a>"
      ]
    },
    {
      "cell_type": "code",
      "execution_count": 1,
      "metadata": {
        "colab": {
          "base_uri": "https://localhost:8080/"
        },
        "id": "D5d4qDOGNkLk",
        "outputId": "a9875949-16bb-43de-ae2e-ce00286804f5"
      },
      "outputs": [
        {
          "output_type": "stream",
          "name": "stdout",
          "text": [
            "Tensorflow  2.11.0\n",
            "Tensorflow.Keras  2.11.0\n"
          ]
        }
      ],
      "source": [
        "#@title Understanding tf.keras Layers\n",
        "import tensorflow as tf\n",
        "import numpy as np\n",
        "print('Tensorflow ',tf.__version__)\n",
        "print('Tensorflow.Keras ',tf.keras.__version__)"
      ]
    },
    {
      "cell_type": "markdown",
      "source": [
        "In this tutorial, we will try to understand one of the layers provide by Keras.\n",
        "#Global Max Pooling 1D Layer"
      ],
      "metadata": {
        "id": "3Rj6g8HqO9yv"
      }
    },
    {
      "cell_type": "markdown",
      "source": [
        "As per the documentation provided by Keras. The layer can be described as :-\n",
        "\n",
        "\n",
        "1.   Global Max Pooling operation works for ID Temporal Data.\n",
        "2.   Downsamples the input representation by taking the maximum value over the time dimension.\n",
        "\n"
      ],
      "metadata": {
        "id": "Dw1GnJHKPNgl"
      }
    },
    {
      "cell_type": "markdown",
      "source": [
        "Now to uderstand the Time dimension/ Temporal Data, lets consider an example:-\n",
        "\n",
        "Consider a Satellite on a planet taking 3 measurements:- Surface Temperature, Pressure and Humidity of a planet, twice a day"
      ],
      "metadata": {
        "id": "rgu6tS5nPryn"
      }
    },
    {
      "cell_type": "code",
      "source": [
        "morning= [18, 150, 76]\n",
        "evening = [25, 140, 88]\n",
        "firstDay= [morning,evening]\n",
        "print('Two observations from the First Day of 3 sensor-data: \\n', firstDay)"
      ],
      "metadata": {
        "colab": {
          "base_uri": "https://localhost:8080/"
        },
        "id": "Xgeh7NXOP1tW",
        "outputId": "3a0cbcfb-a3c3-4141-88de-da9faee45bfc"
      },
      "execution_count": 2,
      "outputs": [
        {
          "output_type": "stream",
          "name": "stdout",
          "text": [
            "Two observations from the First Day of 3 sensor-data: \n",
            " [[18, 150, 76], [25, 140, 88]]\n"
          ]
        }
      ]
    },
    {
      "cell_type": "markdown",
      "source": [
        "###Day 2 \n",
        "\n",
        "The following observations were taken:-"
      ],
      "metadata": {
        "id": "TYs-1eFVQ_Im"
      }
    },
    {
      "cell_type": "code",
      "source": [
        "firstDay= [[18, 150, 76], [25, 140, 88]]\n",
        "secondDay= [[19, 160, 76], [29, 140, 68]]\n",
        "log = firstDay+secondDay\n",
        "print('2 days observations:\\n',log)\n"
      ],
      "metadata": {
        "colab": {
          "base_uri": "https://localhost:8080/"
        },
        "id": "XwgpZDd8Q6Pd",
        "outputId": "8b1edeb8-09f5-46f3-c7ed-8a57ba477de7"
      },
      "execution_count": 3,
      "outputs": [
        {
          "output_type": "stream",
          "name": "stdout",
          "text": [
            "2 days observations:\n",
            " [[18, 150, 76], [25, 140, 88], [19, 160, 76], [29, 140, 68]]\n"
          ]
        }
      ]
    },
    {
      "cell_type": "markdown",
      "source": [
        "convert the list to np array with proper shape for 2 days, 2 observations of 3 sensors:"
      ],
      "metadata": {
        "id": "239iF68DRY4C"
      }
    },
    {
      "cell_type": "code",
      "source": [
        "log= np.array(log).reshape(2,2,3)\n",
        "print(log)"
      ],
      "metadata": {
        "colab": {
          "base_uri": "https://localhost:8080/"
        },
        "id": "ilUsje1XQ0yA",
        "outputId": "09b47947-140c-48e1-e0e0-dae8e864d99a"
      },
      "execution_count": 4,
      "outputs": [
        {
          "output_type": "stream",
          "name": "stdout",
          "text": [
            "[[[ 18 150  76]\n",
            "  [ 25 140  88]]\n",
            "\n",
            " [[ 19 160  76]\n",
            "  [ 29 140  68]]]\n"
          ]
        }
      ]
    },
    {
      "cell_type": "code",
      "source": [
        "print(log.shape)"
      ],
      "metadata": {
        "colab": {
          "base_uri": "https://localhost:8080/"
        },
        "id": "Cqjb0a_2Rdkb",
        "outputId": "634b2bd7-f45f-47d1-b847-59d78ad9ef1e"
      },
      "execution_count": 5,
      "outputs": [
        {
          "output_type": "stream",
          "name": "stdout",
          "text": [
            "(2, 2, 3)\n"
          ]
        }
      ]
    },
    {
      "cell_type": "code",
      "source": [
        "log = tf.constant(log)\n",
        "print('Input Log: \\n', log)\n",
        "max_pool_1d = tf.keras.layers.GlobalMaxPooling1D()\n",
        "max_values_per_day= max_pool_1d(log)\n",
        "print('\\nmax_values_per_day\\n',max_values_per_day)"
      ],
      "metadata": {
        "colab": {
          "base_uri": "https://localhost:8080/"
        },
        "id": "1QjVt3GXR24A",
        "outputId": "cd869eb4-281c-4f90-9121-16e801fa0965"
      },
      "execution_count": 6,
      "outputs": [
        {
          "output_type": "stream",
          "name": "stdout",
          "text": [
            "Input Log: \n",
            " tf.Tensor(\n",
            "[[[ 18 150  76]\n",
            "  [ 25 140  88]]\n",
            "\n",
            " [[ 19 160  76]\n",
            "  [ 29 140  68]]], shape=(2, 2, 3), dtype=int64)\n",
            "\n",
            "max_values_per_day\n",
            " tf.Tensor(\n",
            "[[ 25 150  88]\n",
            " [ 29 160  76]], shape=(2, 3), dtype=int64)\n"
          ]
        }
      ]
    },
    {
      "cell_type": "markdown",
      "source": [
        "Two understand the ouput, we have to understand the shape of input tensor.\n",
        "Lets consider the shape of the input as (p,q,r), where\n",
        "\n",
        "\n",
        "*   p represents the samples taken. In this example it will be measurements per day.\n",
        "*   q represents the time. The number of time measurement is taken in a day.\n",
        "*   s represents the different quantity measured.\n",
        "\n",
        "So when we apply Global Max Pooling, the readings are averaged in time dimension and time dimension is omitted in final output.\n",
        "\n",
        "\n",
        "\n",
        "\n"
      ],
      "metadata": {
        "id": "Qv_xcgLDSDMj"
      }
    }
  ]
}